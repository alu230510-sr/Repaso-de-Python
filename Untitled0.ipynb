{
  "nbformat": 4,
  "nbformat_minor": 0,
  "metadata": {
    "colab": {
      "provenance": [],
      "authorship_tag": "ABX9TyNoBA+mzqYZtPWinUXmF67M",
      "include_colab_link": true
    },
    "kernelspec": {
      "name": "python3",
      "display_name": "Python 3"
    },
    "language_info": {
      "name": "python"
    }
  },
  "cells": [
    {
      "cell_type": "markdown",
      "metadata": {
        "id": "view-in-github",
        "colab_type": "text"
      },
      "source": [
        "<a href=\"https://colab.research.google.com/github/alu230510-sr/Repaso-de-Python/blob/main/Untitled0.ipynb\" target=\"_parent\"><img src=\"https://colab.research.google.com/assets/colab-badge.svg\" alt=\"Open In Colab\"/></a>"
      ]
    },
    {
      "cell_type": "markdown",
      "source": [],
      "metadata": {
        "id": "gI50abND_BBh"
      }
    },
    {
      "cell_type": "markdown",
      "source": [
        "Realizar un programa en python que te permita capturar 3 números enteros e imprima cual de los 3 es el mayor"
      ],
      "metadata": {
        "id": "eHyXJ_Rq_DfF"
      }
    },
    {
      "cell_type": "code",
      "source": [
        "num1=float(input(\"Ingresa un numero entero: \"))\n",
        "num2=float(input(\"Ingresa un segundo numero entero: \"))\n",
        "num3=float(input(\"Ingresa un tercer numero entero: \"))\n",
        "\n",
        "mayor=max(num1, num2, num3)\n",
        "\n",
        "print(\"El numero mayor de los tres es: \", mayor)\n"
      ],
      "metadata": {
        "colab": {
          "base_uri": "https://localhost:8080/"
        },
        "id": "I9tudX_T_Ex-",
        "outputId": "dde3bceb-2583-45c9-a3a0-a31054b84639"
      },
      "execution_count": 1,
      "outputs": [
        {
          "output_type": "stream",
          "name": "stdout",
          "text": [
            "Ingresa un numero5\n",
            "Ingresa un segundo numero6\n",
            "Ingresa un tercer numero4\n",
            "El numero mayor de los tres es:  6.0\n"
          ]
        }
      ]
    },
    {
      "cell_type": "markdown",
      "source": [
        "Realizar un programa en python mediante el cual calcules el total de caracteres que tiene un nombre capturado desde el teclado."
      ],
      "metadata": {
        "id": "itm98zbt_dKk"
      }
    },
    {
      "cell_type": "code",
      "source": [
        "palabra=input(\"Escribe una palabera en la que quieras contar sus caracteres: \")\n",
        "caracter=len(palabra)\n",
        "print(\"La palabra tiene\", caracter, \"caracter\")\n"
      ],
      "metadata": {
        "colab": {
          "base_uri": "https://localhost:8080/"
        },
        "id": "qDsWCro6AmkC",
        "outputId": "5009560a-4562-4916-f85e-fd1d56141be0"
      },
      "execution_count": 7,
      "outputs": [
        {
          "output_type": "stream",
          "name": "stdout",
          "text": [
            "Escribe una palabera en la que quieras contar sus caracteres: yael\n",
            "La palabra tiene 4 caracter\n"
          ]
        }
      ]
    },
    {
      "cell_type": "markdown",
      "source": [
        "Realizar un programa en python que permita imprimir los 7 días de la semana."
      ],
      "metadata": {
        "id": "eu5zeTwxClRv"
      }
    },
    {
      "cell_type": "code",
      "source": [
        "semana=(\"lunes\", \"martes\", \"miercoles\", \"juevez\", \"viernes\", \"sabado\", \"domingo\")\n",
        "print(\"Los dias de la semana son: \")\n",
        "for in semana:\n",
        "  print(dia)"
      ],
      "metadata": {
        "id": "VP7Ps_WKCpHW"
      },
      "execution_count": null,
      "outputs": []
    }
  ]
}