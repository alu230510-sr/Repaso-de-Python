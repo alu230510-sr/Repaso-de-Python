{
  "nbformat": 4,
  "nbformat_minor": 0,
  "metadata": {
    "colab": {
      "provenance": [],
      "authorship_tag": "ABX9TyNjT6TEXAUwecv9ysPrSzUk",
      "include_colab_link": true
    },
    "kernelspec": {
      "name": "python3",
      "display_name": "Python 3"
    },
    "language_info": {
      "name": "python"
    }
  },
  "cells": [
    {
      "cell_type": "markdown",
      "metadata": {
        "id": "view-in-github",
        "colab_type": "text"
      },
      "source": [
        "<a href=\"https://colab.research.google.com/github/alu230510-sr/Repaso-de-Python/blob/main/MarisolCA.ipynb\" target=\"_parent\"><img src=\"https://colab.research.google.com/assets/colab-badge.svg\" alt=\"Open In Colab\"/></a>"
      ]
    },
    {
      "cell_type": "markdown",
      "source": [
        "Realizar un programa que permita capturar tu nombre y lo imprima seguido de una bienvenida"
      ],
      "metadata": {
        "id": "LDZ-mRr9_Ofd"
      }
    },
    {
      "cell_type": "code",
      "source": [
        "nombre=input(\"Ingresa tu nombre: \")\n",
        "print(\"Hola, bienvenido a nuestro programa\", nombre)"
      ],
      "metadata": {
        "colab": {
          "base_uri": "https://localhost:8080/"
        },
        "id": "_YIaMPKl_evj",
        "outputId": "7c07ab09-1df2-4456-dbf3-054775292d45"
      },
      "execution_count": 5,
      "outputs": [
        {
          "output_type": "stream",
          "name": "stdout",
          "text": [
            "Ingresa tu nombre: marisol\n",
            "Hola, bienvenido a nuestro programa marisol\n"
          ]
        }
      ]
    },
    {
      "cell_type": "markdown",
      "source": [
        "Realizar un programa que permita capturar dos numeros enteros e imprima la suma, resta, multiplicacion y la division entre ellos."
      ],
      "metadata": {
        "id": "EJ1S68pUCoT-"
      }
    },
    {
      "cell_type": "code",
      "source": [
        "num1=int(input(\"Ingresa un numero\"))\n",
        "num2=int(input(\"Ingresa un segundo numero\"))\n",
        "s=num1+num2\n",
        "r=num1-num2\n",
        "m=num1*num2\n",
        "d=num1/num2\n",
        "print(\"La suma es: \", s )\n",
        "print(\"La resta es: \", r)\n",
        "print(\"La multiplicacion es: \", m)\n",
        "print(\"La division es: \", d)"
      ],
      "metadata": {
        "colab": {
          "base_uri": "https://localhost:8080/"
        },
        "id": "136-yGUfC3C1",
        "outputId": "94069618-121f-461b-9858-e4005bc0069b"
      },
      "execution_count": 7,
      "outputs": [
        {
          "output_type": "stream",
          "name": "stdout",
          "text": [
            "Ingresa un numero2\n",
            "Ingresa un segundo numero5\n",
            "La suma es:  7\n",
            "La resta es:  -3\n",
            "La multiplicacion es:  10\n",
            "La division es:  0.4\n"
          ]
        }
      ]
    },
    {
      "cell_type": "code",
      "execution_count": null,
      "metadata": {
        "id": "ncK-HGaO-5iI"
      },
      "outputs": [],
      "source": []
    }
  ]
}